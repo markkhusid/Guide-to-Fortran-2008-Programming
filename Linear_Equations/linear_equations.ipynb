{
 "cells": [
  {
   "cell_type": "markdown",
   "metadata": {},
   "source": [
    "We wish to write a program to solve the matrix equation: $A * x = B$:"
   ]
  },
  {
   "cell_type": "markdown",
   "metadata": {},
   "source": [
    "$$\n",
    "\\large AX = B\n",
    "$$"
   ]
  },
  {
   "cell_type": "markdown",
   "metadata": {},
   "source": [
    "$A$ is defined as the matrix:"
   ]
  },
  {
   "cell_type": "markdown",
   "metadata": {},
   "source": [
    "\\begin{equation}\n",
    "A = \n",
    "\\begin{bmatrix}\n",
    "    3 & 1 & 3 \\\\\n",
    "    1 & 5 & 9 \\\\\n",
    "    2 & 6 & 5\n",
    "\\end{bmatrix}\n",
    "\\end{equation}"
   ]
  },
  {
   "cell_type": "markdown",
   "metadata": {},
   "source": [
    "$X$ is defined as the vector:"
   ]
  },
  {
   "cell_type": "markdown",
   "metadata": {},
   "source": [
    "\\begin{equation}\n",
    "X = \n",
    "\\begin{bmatrix}\n",
    "    X_1 \\\\\n",
    "    X_2 \\\\\n",
    "    X_3 \\\\\n",
    "\\end{bmatrix}\n",
    "\\end{equation}"
   ]
  },
  {
   "cell_type": "markdown",
   "metadata": {},
   "source": [
    "$B$ is defined as the vector:"
   ]
  },
  {
   "cell_type": "markdown",
   "metadata": {},
   "source": [
    "\\begin{equation}\n",
    "B = \n",
    "\\begin{bmatrix}\n",
    "    -1 \\\\\n",
    "    2  \\\\\n",
    "    -3 \\\\\n",
    "\\end{bmatrix}\n",
    "\\end{equation}"
   ]
  },
  {
   "cell_type": "markdown",
   "metadata": {},
   "source": [
    "This produces the following matrix equation:"
   ]
  },
  {
   "cell_type": "markdown",
   "metadata": {},
   "source": [
    "\\begin{equation}\n",
    "\\begin{bmatrix}\n",
    "    3 & 1 & 3 \\\\\n",
    "    1 & 5 & 9 \\\\\n",
    "    2 & 6 & 5\n",
    "\\end{bmatrix}\n",
    "\\begin{bmatrix}\n",
    "    X_1 \\\\\n",
    "    X_2 \\\\\n",
    "    X_3 \\\\\n",
    "\\end{bmatrix} =\n",
    "\\begin{bmatrix}\n",
    "    -1 \\\\\n",
    "    2  \\\\\n",
    "    -3 \\\\\n",
    "\\end{bmatrix}\n",
    "\\end{equation}"
   ]
  },
  {
   "cell_type": "markdown",
   "metadata": {},
   "source": [
    "The following program uses the LAPACK module to solve the matrix equation: $A * x = B$:"
   ]
  },
  {
   "cell_type": "code",
   "execution_count": 1,
   "metadata": {},
   "outputs": [
    {
     "name": "stderr",
     "output_type": "stream",
     "text": [
      "/usr/bin/ld: warning: libgfortran.so.4, needed by /usr/lib/gcc/x86_64-linux-gnu/8/../../../x86_64-linux-gnu/liblapack.so, may conflict with libgfortran.so.5\n"
     ]
    },
    {
     "name": "stdout",
     "output_type": "stream",
     "text": [
      "x[1]= -1.00\n",
      "x[2]= -1.00\n",
      "x[3]=  1.00\n"
     ]
    }
   ],
   "source": [
    "%fcflags: -llapack\n",
    "program LinearEquations\n",
    "  ! solving the matrix equation A*x=b using LAPACK\n",
    "  Implicit none\n",
    "\n",
    "  ! declarations\n",
    "  double precision :: A(3,3), b(3)\n",
    "  integer :: i, pivot(3), ok\n",
    "  \n",
    "  ! matrix A\n",
    "  A(1,:)=(/3, 1, 3/)\n",
    "  A(2,:)=(/1, 5, 9/)\n",
    "  A(3,:)=(/2, 6, 5/)\n",
    "  \n",
    "  ! vector b\n",
    "  b(:)=(/-1, 3, -3/)\n",
    "  !b(:)=(/2, 2, 9/)\n",
    "\n",
    "  ! find the solution using the LAPACK routine DGESV\n",
    "  call DGESV(3, 1, A, 3, pivot, b, 3, ok)\n",
    "\n",
    "  ! print the solution x\n",
    "  do i=1, 3\n",
    "    write(*,9) i, b(i)\n",
    "  end do  \n",
    "\n",
    "9 format('x[', i1, ']= ', f5.2)  \n",
    "end program LinearEquations"
   ]
  },
  {
   "cell_type": "markdown",
   "metadata": {},
   "source": [
    "Therefore, the results is:"
   ]
  },
  {
   "cell_type": "markdown",
   "metadata": {},
   "source": [
    "\\begin{equation}\n",
    "X = \n",
    "\\begin{bmatrix}\n",
    "    -1 \\\\\n",
    "    -1 \\\\\n",
    "    1  \\\\\n",
    "\\end{bmatrix}\n",
    "\\end{equation}"
   ]
  }
 ],
 "metadata": {
  "kernelspec": {
   "display_name": "gfortran",
   "language": "Fortran",
   "name": "gfort_spec"
  },
  "language_info": {
   "file_extension": "f90",
   "mimetype": "text/plain",
   "name": "fortran"
  }
 },
 "nbformat": 4,
 "nbformat_minor": 4
}
