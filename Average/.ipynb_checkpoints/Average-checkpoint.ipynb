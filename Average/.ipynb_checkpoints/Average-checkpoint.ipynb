{
 "cells": [
  {
   "cell_type": "markdown",
   "metadata": {},
   "source": [
    "This simple FORTRAN program uses an allocatable array to store a series of user entered reals numbers. It then uses the built-in SUM function to easily sum over all of the elements in the array. The SUM command makes FORTRAN extremely powerful for computing series expansions or series sum calculations. It is also extremely useful for numerical calculations of integrals and convolution integrals in control systems engineering. \n",
    "\n",
    "https://en.wikipedia.org/wiki/Fortran"
   ]
  },
  {
   "cell_type": "code",
   "execution_count": 7,
   "metadata": {},
   "outputs": [
    {
     "name": "stdout",
     "output_type": "stream",
     "text": [
      "The number of points is =          10\n",
      "Array position    0 =    0.000    \n",
      "Array position    1 =    0.000    \n",
      "Array position    2 =   -4.000    \n",
      "Array position    3 =    3.000    \n",
      "Array position    4 =    7.000    \n",
      "Array position    5 =    12.00    \n",
      "Array position    6 =   -5.000    \n",
      "Array position    7 =    8.000    \n",
      "Array position    8 =    10.00    \n",
      "Array position    9 =   -6.000    \n",
      "Array position   10 =    14.00    \n",
      "\n",
      "Average =    3.900    \n",
      "Average of positive points =    9.000    \n",
      "Average of negative points =   -5.000    \n"
     ]
    }
   ],
   "source": [
    "program average\n",
    "\n",
    "  ! Read in some numbers and take the average\n",
    "  ! As written, if there are no data points, an average of zero is returned\n",
    "  ! While this may not be desired behavior, it keeps this example simple\n",
    "\n",
    "  implicit none\n",
    "\n",
    "  real, dimension(:), allocatable :: points\n",
    "  integer                         :: number_of_points, i\n",
    "  real                            :: average_points=0., positive_average=0., negative_average=0.\n",
    "\n",
    "  ! Commented out for Jupyter Notebooks\n",
    "  !write (*,*) \"Input number of points to average:\"\n",
    "  \n",
    "  ! Commented out for Jupyter Notebooks\n",
    "  !read  (*,*) number_of_points\n",
    "\n",
    "  number_of_points = 10\n",
    "  write (*, '(a, g12.4)') 'The number of points is =', number_of_points\n",
    "  allocate (points(number_of_points))\n",
    "\n",
    "  ! Commented out for Jupyter Notebooks\n",
    "  !write (*,*) \"Enter the points to average:\"\n",
    "  \n",
    "  ! Commented out for Jupyter Notebooks\n",
    "  !read  (*,*) points\n",
    "  \n",
    "  points = [0, -4, 3, 7, 12, -5, 8, 10, -6, 14]\n",
    "  do i = 0, size(points)\n",
    "      write (*, '(a, g4.4, a, g12.4)') \"Array position \", i, \" = \", points(i)\n",
    "  end do\n",
    "\n",
    "  ! Take the average by summing points and dividing by number_of_points\n",
    "  if (number_of_points > 0) average_points = sum(points) / number_of_points\n",
    "\n",
    "  ! Now form average over positive and negative points only\n",
    "  if (count(points > 0.) > 0) then\n",
    "     positive_average = sum(points, points > 0.) / count(points > 0.)\n",
    "  end if\n",
    "\n",
    "  if (count(points < 0.) > 0) then\n",
    "     negative_average = sum(points, points < 0.) / count(points < 0.)\n",
    "  end if\n",
    "\n",
    "  deallocate (points)\n",
    "\n",
    "  ! Print result to terminal\n",
    "  print *\n",
    "  write (*,'(a,g12.4)') 'Average = ', average_points\n",
    "  write (*,'(a,g12.4)') 'Average of positive points = ', positive_average\n",
    "  write (*,'(a,g12.4)') 'Average of negative points = ', negative_average\n",
    "\n",
    "end program average"
   ]
  },
  {
   "cell_type": "code",
   "execution_count": null,
   "metadata": {},
   "outputs": [],
   "source": []
  }
 ],
 "metadata": {
  "kernelspec": {
   "display_name": "gfortran",
   "language": "Fortran",
   "name": "gfort_spec"
  },
  "language_info": {
   "file_extension": "f90",
   "mimetype": "text/plain",
   "name": "fortran"
  }
 },
 "nbformat": 4,
 "nbformat_minor": 4
}
